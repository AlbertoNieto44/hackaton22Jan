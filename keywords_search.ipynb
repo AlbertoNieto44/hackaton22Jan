{
 "cells": [
  {
   "cell_type": "code",
   "execution_count": 1,
   "metadata": {},
   "outputs": [],
   "source": [
    "import pandas as pd\n",
    "import numpy as np\n",
    "import matplotlib.pyplot as plt\n",
    "pd.set_option('display.max_columns' ,100)\n",
    "pd.set_option('display.max_rows' ,200)"
   ]
  },
  {
   "cell_type": "code",
   "execution_count": 2,
   "metadata": {},
   "outputs": [],
   "source": [
    "# time = pd.read_pickle(\"data/Time.pkl\")\n",
    "aircraft = pd.read_pickle(\"data/Aircraft.pkl\")\n",
    "text = pd.read_pickle(\"data/text.pkl\")"
   ]
  },
  {
   "cell_type": "code",
   "execution_count": 3,
   "metadata": {},
   "outputs": [],
   "source": [
    "def createDictionaryOfUniquesValues(df):\n",
    "    dfDict = {c: df[c].unique() for c in df.columns}\n",
    "    keys_to_delete = []\n",
    "    for k in dfDict.keys():\n",
    "        if 'display' in k:\n",
    "            keys_to_delete.append(k) \n",
    "    for k in keys_to_delete:\n",
    "        del dfDict[k]\n",
    "        \n",
    "    return dfDict"
   ]
  },
  {
   "cell_type": "code",
   "execution_count": 4,
   "metadata": {},
   "outputs": [
    {
     "data": {
      "text/plain": [
       "2181"
      ]
     },
     "execution_count": 4,
     "metadata": {},
     "output_type": "execute_result"
    }
   ],
   "source": [
    "keywords_aircraft = aircraft['Make Model Name'].unique()\n",
    "keywords_aircraft_nodash = [x.replace('-', ' ') for x in keywords_aircraft]\n",
    "keywords_aircraft_nospace = [x.replace(' ','') for x in keywords_aircraft]\n",
    "keywords_aircraft_tot = np.concatenate([keywords_aircraft,keywords_aircraft_nodash,keywords_aircraft_nospace])\n",
    "len(keywords_aircraft_tot)"
   ]
  },
  {
   "cell_type": "code",
   "execution_count": 5,
   "metadata": {},
   "outputs": [
    {
     "name": "stdout",
     "output_type": "stream",
     "text": [
      "76\n"
     ]
    },
    {
     "data": {
      "text/plain": [
       "['B737-300',\n",
       " 'B727-200',\n",
       " 'A320',\n",
       " 'B747-100',\n",
       " 'B757-200',\n",
       " 'B737-200',\n",
       " 'B737-500',\n",
       " 'B737-400',\n",
       " 'MD-88',\n",
       " 'A300',\n",
       " 'A310',\n",
       " 'B747-400',\n",
       " 'B767-200',\n",
       " 'MD-82',\n",
       " 'DC-8F',\n",
       " 'DHC-7',\n",
       " 'A321',\n",
       " 'MD-11',\n",
       " 'B727-100',\n",
       " 'MU-2',\n",
       " 'B747-SP',\n",
       " 'B747-200',\n",
       " 'B737-100',\n",
       " 'B707',\n",
       " 'MD-83',\n",
       " 'MD-81',\n",
       " 'A340',\n",
       " 'M-6',\n",
       " 'MU-2F',\n",
       " 'M-4',\n",
       " 'B747-300',\n",
       " 'MD-90-30',\n",
       " 'M-5',\n",
       " 'BO105',\n",
       " 'M-7',\n",
       " 'B777-200',\n",
       " 'MD-87',\n",
       " 'A330',\n",
       " 'T-1020',\n",
       " 'B747-SR',\n",
       " 'A319',\n",
       " 'GA7-Cougar',\n",
       " 'B737-600',\n",
       " 'B737-800',\n",
       " 'B757-300',\n",
       " 'B737-700',\n",
       " 'M-30',\n",
       " 'A319CJ',\n",
       " 'PC-12',\n",
       " 'B737-900',\n",
       " 'SR20',\n",
       " 'SR22',\n",
       " 'MD-500MG',\n",
       " 'A318',\n",
       " 'B777-300',\n",
       " 'Q400',\n",
       " 'B737',\n",
       " 'RV-7',\n",
       " 'RV-10',\n",
       " 'RV-6',\n",
       " 'A380',\n",
       " 'RV-4',\n",
       " 'EC135',\n",
       " 'RV-8',\n",
       " 'EC130',\n",
       " 'RV-9',\n",
       " 'EC145',\n",
       " 'a320',\n",
       " 'RV-12',\n",
       " 'B787-800',\n",
       " 'RV-3',\n",
       " 'MD-80',\n",
       " 'B787-900',\n",
       " 'CH650',\n",
       " 'DA62',\n",
       " 'PC-24']"
      ]
     },
     "execution_count": 5,
     "metadata": {},
     "output_type": "execute_result"
    }
   ],
   "source": [
    "key_news = []\n",
    "for word in keywords_aircraft :\n",
    "    if len(word.split(\" \")) < 2 :\n",
    "        if len(word.split(\"/\")) < 2:\n",
    "            for little_word in word :\n",
    "                if little_word.isnumeric() :\n",
    "                    key_news.append(word)\n",
    "                    break\n",
    "\n",
    "print(len(key_news))      \n",
    "key_news"
   ]
  },
  {
   "cell_type": "code",
   "execution_count": 18,
   "metadata": {},
   "outputs": [
    {
     "name": "stdout",
     "output_type": "stream",
     "text": [
      "188879\n"
     ]
    }
   ],
   "source": [
    "textDict = createDictionaryOfUniquesValues(text)\n",
    "del textDict[\"ITEM_ID\"]\n",
    "#all_text = [t for k in textDict.keys() for t in textDict[k]]\n",
    "all_text = textDict['Synopsis']\n",
    "print(len(all_text))"
   ]
  },
  {
   "cell_type": "code",
   "execution_count": 15,
   "metadata": {},
   "outputs": [],
   "source": [
    "all_text = all_text"
   ]
  },
  {
   "cell_type": "code",
   "execution_count": 23,
   "metadata": {},
   "outputs": [],
   "source": [
    "positive_text = []\n",
    "positive_aircraft = []\n",
    "for text2 in all_text :\n",
    "    sentences = text2.split('.')\n",
    "    for s in sentences :\n",
    "        s.replace(r'[^\\w\\s]','')\n",
    "        for w in s.split():\n",
    "            if len(w) > 2 and w in key_news:\n",
    "                positive_text.append(s)\n",
    "                #positive_aircraft.append(w)\n",
    "                break\n",
    "\n",
    "#fp = text2\n",
    "#data = fp.read()\n",
    "#print '\\n-----\\n'.join(tokenizer.tokenize(text2))"
   ]
  },
  {
   "cell_type": "code",
   "execution_count": 24,
   "metadata": {},
   "outputs": [
    {
     "data": {
      "text/plain": [
       "27166"
      ]
     },
     "execution_count": 24,
     "metadata": {},
     "output_type": "execute_result"
    }
   ],
   "source": [
    "len(positive_text)"
   ]
  },
  {
   "cell_type": "code",
   "execution_count": 28,
   "metadata": {},
   "outputs": [],
   "source": [
    "with open(\"test_file.txt\", \"w\") as f:\n",
    "    for sentence in positive_text :\n",
    "        for word in sentence :\n",
    "            if len(word) > 2 and word in key_news :\n",
    "                f.write(word + \" \" + \"aircraft\")\n",
    "            else :\n",
    "                f.write(word + \" \" + \"O\")\n",
    "        f.write(\" \")"
   ]
  },
  {
   "cell_type": "code",
   "execution_count": null,
   "metadata": {},
   "outputs": [],
   "source": []
  }
 ],
 "metadata": {
  "kernelspec": {
   "display_name": "Python 3",
   "language": "python",
   "name": "python3"
  },
  "language_info": {
   "codemirror_mode": {
    "name": "ipython",
    "version": 3
   },
   "file_extension": ".py",
   "mimetype": "text/x-python",
   "name": "python",
   "nbconvert_exporter": "python",
   "pygments_lexer": "ipython3",
   "version": "3.7.5"
  },
  "toc": {
   "base_numbering": 1,
   "nav_menu": {},
   "number_sections": true,
   "sideBar": true,
   "skip_h1_title": false,
   "title_cell": "Table of Contents",
   "title_sidebar": "Contents",
   "toc_cell": false,
   "toc_position": {},
   "toc_section_display": true,
   "toc_window_display": false
  },
  "varInspector": {
   "cols": {
    "lenName": 16,
    "lenType": 16,
    "lenVar": 40
   },
   "kernels_config": {
    "python": {
     "delete_cmd_postfix": "",
     "delete_cmd_prefix": "del ",
     "library": "var_list.py",
     "varRefreshCmd": "print(var_dic_list())"
    },
    "r": {
     "delete_cmd_postfix": ") ",
     "delete_cmd_prefix": "rm(",
     "library": "var_list.r",
     "varRefreshCmd": "cat(var_dic_list()) "
    }
   },
   "position": {
    "height": "335.85px",
    "left": "1048.63px",
    "right": "20px",
    "top": "109px",
    "width": "350px"
   },
   "types_to_exclude": [
    "module",
    "function",
    "builtin_function_or_method",
    "instance",
    "_Feature"
   ],
   "window_display": false
  }
 },
 "nbformat": 4,
 "nbformat_minor": 2
}
